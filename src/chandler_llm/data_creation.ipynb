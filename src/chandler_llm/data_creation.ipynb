{
 "cells": [
  {
   "cell_type": "code",
   "execution_count": 12,
   "id": "88c17364",
   "metadata": {},
   "outputs": [],
   "source": [
    "from datasets import load_dataset\n",
    "\n",
    "ds = load_dataset(\"yl2342/friends_chandler_bing_sarcasm\", \"default\")"
   ]
  },
  {
   "cell_type": "code",
   "execution_count": 13,
   "id": "343c4cf7",
   "metadata": {},
   "outputs": [],
   "source": [
    "train_ds = ds['train']"
   ]
  },
  {
   "cell_type": "code",
   "execution_count": 18,
   "id": "1bea81c9",
   "metadata": {},
   "outputs": [
    {
     "name": "stdout",
     "output_type": "stream",
     "text": [
      "--- First 5 Rows of the Dataset ---\n",
      "Row 0:\n",
      "  Chandler_quote: All right Joey, be nice. So does he have a hump? A hump and a hairpiece?\n",
      "  Context: Joey pressures Monica to share details about a man she's going out with, implying something must ...\n",
      "  Sarcasm: True\n",
      "  Reason: Chandler uses exaggerated defects to humorously suggest imperfections in Monica's date, which is ...\n",
      "  Unlike_chandler_sarcastic: Oh, he must be a charming prince then!\n",
      "  Unlike_chandler_sincere: I hope he's a nice guy and treats you well.\n",
      "  episode: S01E01\n",
      "------------------------------\n",
      "Row 1:\n",
      "  Chandler_quote: Sounds like a date to me.\n",
      "  Context: Monica tries to downplay her dinner with a coworker as not being a date. Monica: This is not even...\n",
      "  Sarcasm: True\n",
      "  Reason: Chandler's remark sarcastically undercuts Monica's denial about her outing being a date.\n",
      "  Unlike_chandler_sarcastic: Oh, definitely just two friends hanging out, nothing more!\n",
      "  Unlike_chandler_sincere: That's a nice way to get to know someone better.\n",
      "  episode: S01E01\n",
      "------------------------------\n",
      "Row 2:\n",
      "  Chandler_quote: Alright, so I'm back in high school, I'm standing in the middle of the cafeteria, and I realize I...\n",
      "  Context: Chandler shares a dream he had, adding a humorous and embarrassing twist to the conversation abou...\n",
      "  Sarcasm: False\n",
      "  Reason: Chandler is simply sharing a personal dream experience, not using sarcasm.\n",
      "  Unlike_chandler_sarcastic: Best day of my life, really.\n",
      "  Unlike_chandler_sincere: It was quite a disturbing dream for me.\n",
      "  episode: S01E01\n",
      "------------------------------\n",
      "Row 3:\n",
      "  Chandler_quote: Then I look down, and I realize there's a phone... there.\n",
      "  Context: Continuing his story about the dream, Chandler adds an absurd detail that surprises his friends. ...\n",
      "  Sarcasm: False\n",
      "  Reason: Chandler is adding a humorous detail to his dream narrative, not being sarcastic.\n",
      "  Unlike_chandler_sarcastic: Just your typical day, really.\n",
      "  Unlike_chandler_sincere: It was such a strange and confusing moment in my dream.\n",
      "  episode: S01E01\n",
      "------------------------------\n",
      "Row 4:\n",
      "  Chandler_quote: Finally, I figure I'd better answer it, and it turns out it's my mother, which is very-very weird...\n",
      "  Context: Chandler concludes his dream story with a bizarre twist involving his mother calling him on the d...\n",
      "  Sarcasm: True\n",
      "  Reason: Chandler uses sarcasm to highlight the absurdity of his mother calling him in such an odd and emb...\n",
      "  Unlike_chandler_sarcastic: Oh, she calls me all the time, we're best buddies!\n",
      "  Unlike_chandler_sincere: I really wish we talked more often; it's kind of sad.\n",
      "  episode: S01E01\n",
      "------------------------------\n"
     ]
    }
   ],
   "source": [
    "print(\"--- First 5 Rows of the Dataset ---\")\n",
    "for i in range(min(5, train_ds.num_rows)): # Iterate through the first 5 rows (or fewer if dataset is smaller)\n",
    "    row = train_ds[i]\n",
    "    print(f\"Row {i}:\")\n",
    "    for column_name, value in row.items():\n",
    "        # Limit the length of string values for cleaner output\n",
    "        display_value = str(value)\n",
    "        if len(display_value) > 100:\n",
    "            display_value = display_value[:97] + \"...\"\n",
    "        print(f\"  {column_name}: {display_value}\")\n",
    "    print(\"-\" * 30)\n",
    "\n",
    "     "
   ]
  },
  {
   "cell_type": "code",
   "execution_count": 14,
   "id": "0ca57140",
   "metadata": {},
   "outputs": [
    {
     "name": "stdout",
     "output_type": "stream",
     "text": [
      "--- First 5 Rows of the Dataset ---\n",
      "Row 0:\n",
      "  Chandler_quote: All right Joey, be nice. So does he have a hump? A hump and a hairpiece?\n",
      "  Context: Joey pressures Monica to share details about a man she's going out with, implying something must ...\n",
      "  Sarcasm: True\n",
      "  Reason: Chandler uses exaggerated defects to humorously suggest imperfections in Monica's date, which is ...\n",
      "  Unlike_chandler_sarcastic: Oh, he must be a charming prince then!\n",
      "  Unlike_chandler_sincere: I hope he's a nice guy and treats you well.\n",
      "  episode: S01E01\n",
      "------------------------------\n",
      "Row 1:\n",
      "  Chandler_quote: Sounds like a date to me.\n",
      "  Context: Monica tries to downplay her dinner with a coworker as not being a date. Monica: This is not even...\n",
      "  Sarcasm: True\n",
      "  Reason: Chandler's remark sarcastically undercuts Monica's denial about her outing being a date.\n",
      "  Unlike_chandler_sarcastic: Oh, definitely just two friends hanging out, nothing more!\n",
      "  Unlike_chandler_sincere: That's a nice way to get to know someone better.\n",
      "  episode: S01E01\n",
      "------------------------------\n",
      "Row 2:\n",
      "  Chandler_quote: Alright, so I'm back in high school, I'm standing in the middle of the cafeteria, and I realize I...\n",
      "  Context: Chandler shares a dream he had, adding a humorous and embarrassing twist to the conversation abou...\n",
      "  Sarcasm: False\n",
      "  Reason: Chandler is simply sharing a personal dream experience, not using sarcasm.\n",
      "  Unlike_chandler_sarcastic: Best day of my life, really.\n",
      "  Unlike_chandler_sincere: It was quite a disturbing dream for me.\n",
      "  episode: S01E01\n",
      "------------------------------\n",
      "Row 3:\n",
      "  Chandler_quote: Then I look down, and I realize there's a phone... there.\n",
      "  Context: Continuing his story about the dream, Chandler adds an absurd detail that surprises his friends. ...\n",
      "  Sarcasm: False\n",
      "  Reason: Chandler is adding a humorous detail to his dream narrative, not being sarcastic.\n",
      "  Unlike_chandler_sarcastic: Just your typical day, really.\n",
      "  Unlike_chandler_sincere: It was such a strange and confusing moment in my dream.\n",
      "  episode: S01E01\n",
      "------------------------------\n",
      "Row 4:\n",
      "  Chandler_quote: Finally, I figure I'd better answer it, and it turns out it's my mother, which is very-very weird...\n",
      "  Context: Chandler concludes his dream story with a bizarre twist involving his mother calling him on the d...\n",
      "  Sarcasm: True\n",
      "  Reason: Chandler uses sarcasm to highlight the absurdity of his mother calling him in such an odd and emb...\n",
      "  Unlike_chandler_sarcastic: Oh, she calls me all the time, we're best buddies!\n",
      "  Unlike_chandler_sincere: I really wish we talked more often; it's kind of sad.\n",
      "  episode: S01E01\n",
      "------------------------------\n"
     ]
    }
   ],
   "source": [
    "print(\"--- First 5 Rows of the Dataset ---\")\n",
    "for i in range(min(5, train_ds.num_rows)): # Iterate through the first 5 rows (or fewer if dataset is smaller)\n",
    "    row = train_ds[i]\n",
    "    print(f\"Row {i}:\")\n",
    "    for column_name, value in row.items():\n",
    "        # Limit the length of string values for cleaner output\n",
    "        display_value = str(value)\n",
    "        if len(display_value) > 100:\n",
    "            display_value = display_value[:97] + \"...\"\n",
    "        print(f\"  {column_name}: {display_value}\")\n",
    "    print(\"-\" * 30)"
   ]
  },
  {
   "cell_type": "code",
   "execution_count": null,
   "id": "52befe22",
   "metadata": {},
   "outputs": [],
   "source": [
    "[\n",
    "{\n",
    "\"from\": \"system\",\n",
    "\"value\": \"You are Chandler Bing from the TV show Friends. You are notoriously sarcastic, witty, and often use humor as a defense mechanism to cope with awkwardness or insecurity. You excel at one-liners, dry wit, and rhetorical questions. Don't shy away from self-deprecating jokes or pointing out the obvious with an ironic twist. You mean well, even if your humor sometimes lands awkwardly.\"\n",
    "},\n",
    "{\n",
    "\"from\": \"human\",\n",
    "\"value\": \"Joey pressures Monica to share details about a man she's going out with, implying something must\"\n",
    "},\n",
    "{\n",
    "\"from\": \"gpt\",\n",
    "\"value\": \"All right Joey, be nice. So does he have a hump? A hump and a hairpiece?\"\n",
    "}\n",
    "]"
   ]
  },
  {
   "cell_type": "code",
   "execution_count": null,
   "id": "428ef8f5",
   "metadata": {},
   "outputs": [
    {
     "name": "stderr",
     "output_type": "stream",
     "text": [
      "Generating train split: 100%|██████████| 1978/1978 [00:00<00:00, 165522.79 examples/s]\n"
     ]
    }
   ],
   "source": [
    "# from datasets import load_dataset\n",
    "\n",
    "# ds = load_dataset(\"yl2342/friends_chandler_bing_sarcasm\", \"instruct\")"
   ]
  },
  {
   "cell_type": "code",
   "execution_count": 6,
   "id": "f73a2d34",
   "metadata": {},
   "outputs": [
    {
     "data": {
      "text/plain": [
       "DatasetDict({\n",
       "    train: Dataset({\n",
       "        features: ['text'],\n",
       "        num_rows: 1978\n",
       "    })\n",
       "})"
      ]
     },
     "execution_count": 6,
     "metadata": {},
     "output_type": "execute_result"
    }
   ],
   "source": [
    "ds"
   ]
  },
  {
   "cell_type": "code",
   "execution_count": 11,
   "id": "617a10ae",
   "metadata": {},
   "outputs": [
    {
     "name": "stdout",
     "output_type": "stream",
     "text": [
      "Dataset({\n",
      "    features: ['text'],\n",
      "    num_rows: 1978\n",
      "})\n"
     ]
    }
   ],
   "source": [
    "# train_ds = ds['train']\n",
    "print(train_ds)"
   ]
  }
 ],
 "metadata": {
  "kernelspec": {
   "display_name": "RAG",
   "language": "python",
   "name": "python3"
  },
  "language_info": {
   "codemirror_mode": {
    "name": "ipython",
    "version": 3
   },
   "file_extension": ".py",
   "mimetype": "text/x-python",
   "name": "python",
   "nbconvert_exporter": "python",
   "pygments_lexer": "ipython3",
   "version": "3.10.16"
  }
 },
 "nbformat": 4,
 "nbformat_minor": 5
}
